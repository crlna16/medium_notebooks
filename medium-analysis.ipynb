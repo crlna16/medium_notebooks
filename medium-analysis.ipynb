{
 "cells": [
  {
   "cell_type": "code",
   "execution_count": null,
   "id": "33ceed9b-0413-4dc9-8e3e-58c5f8bc5182",
   "metadata": {},
   "outputs": [],
   "source": [
    "import pandas as pd\n",
    "from matplotlib import pyplot as plt\n",
    "import seaborn as sns\n",
    "import numpy as np\n",
    "\n",
    "import plotly.express as px\n",
    "import wordcloud"
   ]
  },
  {
   "cell_type": "code",
   "execution_count": null,
   "id": "2b5f757f-1e90-480d-af7d-86e7b87347ce",
   "metadata": {},
   "outputs": [],
   "source": [
    "medium = pd.read_excel('medium-posting-schedule.xlsx')"
   ]
  },
  {
   "cell_type": "code",
   "execution_count": null,
   "id": "c709ffcf-cb30-45a7-a9b7-0563ac943838",
   "metadata": {},
   "outputs": [],
   "source": [
    "medium['Stats updated'].value_counts()"
   ]
  },
  {
   "cell_type": "code",
   "execution_count": null,
   "id": "dd53cf98-690b-4805-8436-18974a6ee6c0",
   "metadata": {},
   "outputs": [],
   "source": [
    "audience = pd.read_excel('medium-audience-analysis.xlsx').rename(columns={'New followers': 'new_followers'})\n",
    "audience"
   ]
  },
  {
   "cell_type": "markdown",
   "id": "28714685-4434-481c-af7a-bf16b2f09461",
   "metadata": {},
   "source": [
    "## Audience stats"
   ]
  },
  {
   "cell_type": "code",
   "execution_count": null,
   "id": "3f0591ae-94d3-47fd-a1a7-82368411c5bc",
   "metadata": {},
   "outputs": [],
   "source": [
    "audience['old_followers'] = audience['new_followers'].shift(1).cumsum().fillna(0).astype(int)\n",
    "audience\n"
   ]
  },
  {
   "cell_type": "code",
   "execution_count": null,
   "id": "a021fd48-e664-40f0-bebc-4b0b54ca7bf6",
   "metadata": {},
   "outputs": [],
   "source": [
    "fig = px.bar(audience.melt(id_vars='Date', value_vars=['old_followers', 'new_followers']),\n",
    "             x='Date', y='value', color='variable',\n",
    "             category_orders={'variable': ['old_followers', 'new_followers']},\n",
    "             labels={'variable':'Follower type',\n",
    "                    },\n",
    "             color_discrete_sequence=px.colors.qualitative.T10,\n",
    "            )\n",
    "\n",
    "legend_handles = {'old_followers': 'Old', 'new_followers': 'New'}\n",
    "fig.for_each_trace(lambda t: t.update(name = legend_handles[t.name]))\n",
    "\n",
    "fig.update_xaxes(title='Date')\n",
    "fig.update_yaxes(title='Follower count')\n",
    "fig.show()"
   ]
  },
  {
   "cell_type": "markdown",
   "id": "f527b18b-4d7c-420b-8af2-ae2cb18ef8b1",
   "metadata": {},
   "source": [
    "## Article stats"
   ]
  },
  {
   "cell_type": "code",
   "execution_count": null,
   "id": "828f7dd3-4b0f-47d1-8c9c-440fbae23097",
   "metadata": {},
   "outputs": [],
   "source": [
    "fig=px.bar(medium['Status'].value_counts().reset_index(), \n",
    "           x='index', y='Status', color='index',\n",
    "           category_orders={'index': ['published', 'submitted', 'scheduled', 'finished draft', 'early draft', 'idea']},\n",
    "           labels={'index': 'Article status', 'Status': 'Article count'},\n",
    "           color_discrete_sequence=px.colors.qualitative.G10,\n",
    "           width=500,\n",
    "           text_auto='.0f',\n",
    "          )\n",
    "fig.update_layout(showlegend=False)\n",
    "fig.show()"
   ]
  },
  {
   "cell_type": "code",
   "execution_count": null,
   "id": "9ad3e4ef-af17-4af6-898a-fe2fea8cd86f",
   "metadata": {},
   "outputs": [],
   "source": [
    "cond = medium['Status'] == 'published'\n",
    "published = medium[cond].copy()\n",
    "published"
   ]
  },
  {
   "cell_type": "code",
   "execution_count": null,
   "id": "6a6ca65e-db5d-46c7-8e41-b2bed8e06b18",
   "metadata": {},
   "outputs": [],
   "source": [
    "publication_order = published['Publication'].value_counts().index.values"
   ]
  },
  {
   "cell_type": "code",
   "execution_count": null,
   "id": "49dbfd09-a8e5-4373-8d9e-3ae0349457f6",
   "metadata": {},
   "outputs": [],
   "source": [
    "fig=px.bar(published['Publication'].value_counts().reset_index(), \n",
    "           x='index', y='Publication', color='index',\n",
    "           labels={'index': 'Publication', 'Status': 'Article count'},\n",
    "           category_orders={'index': publication_order},\n",
    "           color_discrete_sequence=px.colors.qualitative.G10,\n",
    "           width=500,\n",
    "           text_auto='.0f',\n",
    "          )\n",
    "fig.update_layout(showlegend=False)\n",
    "fig.update_yaxes(title='Count')\n",
    "fig.show()"
   ]
  },
  {
   "cell_type": "code",
   "execution_count": null,
   "id": "01caf150-f7d2-4b50-a040-098b37b6a353",
   "metadata": {},
   "outputs": [],
   "source": [
    "fig=px.scatter(published['Publication date'].value_counts().reset_index(),\n",
    "               x='index', y='Publication date', size='Publication date',\n",
    "               labels={'index': 'Publication date', 'Publication date':'Article count'}, \n",
    "              )\n",
    "fig.show()"
   ]
  },
  {
   "cell_type": "code",
   "execution_count": null,
   "id": "f5dd6ce9-9d0b-44dc-b1ee-db33f5230a93",
   "metadata": {},
   "outputs": [],
   "source": [
    "# TODO divide this by posts accepted in publications\n",
    "# and posts published on my page\n",
    "\n",
    "this_df = (published['Publication date'].sort_values() - published['Publication date'].sort_values().shift()).dropna().dt.days\n",
    "\n",
    "fig=px.violin(this_df,\n",
    "              labels={'variable': '', 'value': 'Post frequency (days)'},\n",
    "              width=800,\n",
    "              box=True,\n",
    "              points='all',\n",
    "              orientation='h',\n",
    "             )\n",
    "\n",
    "fig.add_annotation(text=f'Median: {this_df.median():.1f} days', x=0, xref='paper', y=1, yref='paper', showarrow=False,\n",
    "                   bgcolor='white',\n",
    "                  )\n",
    "fig.update_xaxes(tick0=0)#, dtick=1)\n",
    "fig.update_yaxes(labelalias={'Publication date': ''})\n",
    "fig.show()"
   ]
  },
  {
   "cell_type": "code",
   "execution_count": null,
   "id": "bd8c6c04-f35c-49fb-83e6-2471fd3da4f4",
   "metadata": {},
   "outputs": [],
   "source": [
    "fig=px.box(published,\n",
    "           x='Publication', y='Lifetime earnings', color='Publication',\n",
    "           labels={'Lifetime earnings': 'Lifetime earnings ($)'},\n",
    "           category_orders={'Publication': publication_order},\n",
    "           color_discrete_sequence=px.colors.qualitative.G10,\n",
    "           log_y=True,\n",
    "           width=800,\n",
    "          )\n",
    "#fig.update_layout(\n",
    "#    legend=dict(yanchor=\"top\", y=1.2, xanchor=\"left\", x=0.01, orientation=\"h\",\n",
    "#))\n",
    "fig.add_annotation(text=f'Total earnings: {published[\"Lifetime earnings\"].sum():.2f} $',\n",
    "                   x=0.9, xref='paper',\n",
    "                   y=0.9, yref='paper', \n",
    "                   showarrow=False,  \n",
    "                   bgcolor='white',\n",
    "                  )\n",
    "fig.show()"
   ]
  },
  {
   "cell_type": "code",
   "execution_count": null,
   "id": "370d6c36-4f6d-44f3-ad3a-e44440a0effa",
   "metadata": {},
   "outputs": [],
   "source": [
    "fig=px.bar(published,\n",
    "           x='Publication', y='Lifetime earnings', color='Publication',\n",
    "           labels={'Lifetime earnings': 'Lifetime earnings ($)'},\n",
    "           category_orders={'Publication': publication_order},\n",
    "           color_discrete_sequence=px.colors.qualitative.G10,\n",
    "           width=800,\n",
    "          )\n",
    "\n",
    "fig.show()"
   ]
  },
  {
   "cell_type": "code",
   "execution_count": null,
   "id": "5b23927c-c492-4523-9b9f-17ab68367e27",
   "metadata": {},
   "outputs": [],
   "source": [
    "published['Lifetime'] = (published['Stats updated'] - published['Publication date']).dt.days\n",
    "\n",
    "fig=px.scatter(published.sort_values('Lifetime'),\n",
    "               x='Lifetime',\n",
    "               y='Lifetime earnings',\n",
    "               color='Publication',\n",
    "               color_discrete_sequence=px.colors.qualitative.G10,\n",
    "               category_orders={'Publication': publication_order},\n",
    "               labels={'Lifetime earnings': 'Lifetime earnings ($)', 'Lifetime': 'Lifetime (days)'},\n",
    "               width=600,\n",
    "              )\n",
    "fig.update_traces(marker=dict(size=12,\n",
    "                              line=dict(width=2,\n",
    "                                        color='DarkSlateGrey')),\n",
    "                  mode='lines+markers',\n",
    "                  selector=dict(mode='markers'))\n",
    "fig.update_xaxes(autorange=\"reversed\")\n",
    "#fig.update_layout(\n",
    "#    legend=dict(yanchor=\"top\", y=1.2, xanchor=\"left\", x=0.01, orientation=\"h\",\n",
    "#))\n",
    "fig.show()"
   ]
  },
  {
   "cell_type": "code",
   "execution_count": null,
   "id": "90e552e2-5799-4030-a88e-3922a8e9a5a7",
   "metadata": {},
   "outputs": [],
   "source": [
    "fig=px.bar(published,\n",
    "           x='Lifetime earnings',\n",
    "           y='Title', color='Lifetime earnings',\n",
    "           labels={'Lifetime earnings': 'Lifetime earnings ($)', 'Title': ''},\n",
    "           color_continuous_scale=px.colors.sequential.Viridis,\n",
    "          )\n",
    "\n",
    "fig.update_layout(yaxis={'categoryorder':'total ascending'})\n",
    "fig.show()"
   ]
  },
  {
   "cell_type": "code",
   "execution_count": null,
   "id": "0443fe8a-b4ae-45e9-9aff-a4b5345217fa",
   "metadata": {},
   "outputs": [],
   "source": [
    "fig=px.bar(published,\n",
    "           x='Lifetime earnings',\n",
    "           y='Title', color='Publication',\n",
    "           category_orders={'Publication': publication_order},\n",
    "           labels={'Lifetime earnings': 'Lifetime earnings ($)', 'Title': ''},\n",
    "           color_discrete_sequence=px.colors.qualitative.G10,\n",
    "          )\n",
    "\n",
    "fig.update_layout(\n",
    "    legend=dict(yanchor=\"top\", y=1.2, xanchor=\"left\", x=0.01, orientation=\"h\",\n",
    "))\n",
    "fig.update_layout(yaxis={'categoryorder':'total ascending'})\n",
    "fig.show()"
   ]
  },
  {
   "cell_type": "code",
   "execution_count": null,
   "id": "67bac56b-85b0-43c1-9d25-615508e6413d",
   "metadata": {},
   "outputs": [],
   "source": [
    "published['Publication date'] += pd.DateOffset(hours=23, minutes=59)\n",
    "\n",
    "fig=px.timeline(published,\n",
    "                x_start='Submission date', x_end='Publication date',\n",
    "                y='Publication',\n",
    "                category_orders={'Publication': publication_order},\n",
    "                color='Publication',\n",
    "                color_discrete_sequence=px.colors.qualitative.G10,\n",
    "               )\n",
    "\n",
    "fig.update_layout(\n",
    "    legend=dict(yanchor=\"top\", y=1.2, xanchor=\"left\", x=0.01, orientation=\"h\",\n",
    "))\n",
    "fig.update_xaxes(title='Time line')\n",
    "fig.show()"
   ]
  },
  {
   "cell_type": "markdown",
   "id": "92d11222-44be-4346-b2f1-78f40ea5446a",
   "metadata": {},
   "source": [
    "## Topic processing"
   ]
  },
  {
   "cell_type": "code",
   "execution_count": null,
   "id": "79caaa7b-2750-42dd-9749-dc79ffad036b",
   "metadata": {},
   "outputs": [],
   "source": [
    "topics = published[['Topic 1', 'Topic 2', 'Topic 3', 'Topic 4', 'Topic 5']]"
   ]
  },
  {
   "cell_type": "code",
   "execution_count": null,
   "id": "43d724a8-3aa1-4523-a603-7f1d2b57a877",
   "metadata": {},
   "outputs": [],
   "source": [
    "unique_topics = []\n",
    "for c in topics.columns:\n",
    "    unique_topics.extend(topics[c].unique())\n",
    "unique_topics = np.sort(np.unique(unique_topics))"
   ]
  },
  {
   "cell_type": "code",
   "execution_count": null,
   "id": "ea63e976-f398-412e-9abb-5f58a6cc6912",
   "metadata": {
    "scrolled": true,
    "tags": []
   },
   "outputs": [],
   "source": [
    "newhead = []\n",
    "for ut in unique_topics:\n",
    "    newcol = []\n",
    "    for i in range(topics.shape[0]):\n",
    "        newcol.append(ut in topics.iloc[i].values)\n",
    "        \n",
    "    published['TOPIC_'+ut] = newcol\n",
    "    newhead.append('TOPIC_'+ut)"
   ]
  },
  {
   "cell_type": "code",
   "execution_count": null,
   "id": "e098a8be-7309-4eb1-8020-43ca09e6fadd",
   "metadata": {},
   "outputs": [],
   "source": [
    "tmp = published[newhead].sum().to_frame().reset_index()\n",
    "tmp.columns = ['topic', 'count']\n",
    "tmp['topic'] = tmp['topic'].apply(lambda x: x.replace('TOPIC_', ''))\n",
    "\n",
    "# https://www.wortwolken.com/\n",
    "tmp = tmp[['count', 'topic']]\n",
    "tmp.to_csv('medium_topic_count.csv', index=False, header=False)"
   ]
  },
  {
   "cell_type": "code",
   "execution_count": null,
   "id": "2a8d571e-99b6-48b1-88fa-9fba728f2c91",
   "metadata": {},
   "outputs": [],
   "source": [
    "fig=px.bar(tmp, x='topic', y='count',\n",
    "           color='count',\n",
    "           color_continuous_scale=px.colors.sequential.Viridis,\n",
    "          )\n",
    "\n",
    "fig.update_yaxes(title='Articles under topic')\n",
    "fig.update_xaxes(title='Topic', categoryorder='total descending')\n",
    "fig.show()"
   ]
  },
  {
   "cell_type": "code",
   "execution_count": null,
   "id": "03280b80-17b4-4d87-84a4-23c3184f9dc1",
   "metadata": {},
   "outputs": [],
   "source": [
    "df_wordcloud = pd.read_csv('medium_topic_count.csv', header=None, names=['count', 'topic']).dropna()\n",
    "dict_wordcloud = dict(zip(df_wordcloud['topic'], df_wordcloud['count']))"
   ]
  },
  {
   "cell_type": "code",
   "execution_count": null,
   "id": "1992f97c-c47b-46f6-b5c8-06b5244e452d",
   "metadata": {},
   "outputs": [],
   "source": [
    "x, y = np.ogrid[:300, :300]\n",
    "\n",
    "mask = (x - 150) ** 2 + (y - 150) ** 2 > 130 ** 2\n",
    "mask = 255 * mask.astype(int)\n",
    "\n",
    "wc = wordcloud.WordCloud(colormap='magma', background_color='white', mask=mask)\n",
    "wc.generate_from_frequencies(dict_wordcloud)\n",
    "plt.imshow(wc, interpolation='bilinear')\n",
    "plt.axis('off')\n",
    "ax=plt.gca()\n",
    "ax.set_aspect('equal')\n",
    "plt.show()"
   ]
  },
  {
   "cell_type": "markdown",
   "id": "6bbebd36-1453-4822-8397-309072ae213d",
   "metadata": {},
   "source": [
    "New followers per month and articles published"
   ]
  },
  {
   "cell_type": "code",
   "execution_count": null,
   "id": "6477c46d-b047-41ba-b18f-cedee0a570eb",
   "metadata": {},
   "outputs": [],
   "source": [
    "dummy = pd.DataFrame(dict(Date=published['Publication date'], dummy=1))\n",
    "dummy = dummy.groupby(pd.Grouper(key='Date',freq='M')).agg({'dummy':'sum'}).reset_index()"
   ]
  },
  {
   "cell_type": "code",
   "execution_count": null,
   "id": "75ddd80a-3bb8-4bce-bb41-e7185e9c0ee2",
   "metadata": {},
   "outputs": [],
   "source": [
    "dummy = pd.merge(dummy, audience)\n",
    "dummy['total_article_count'] = dummy['dummy'].cumsum()\n",
    "dummy['total_follower_count'] = dummy['new_followers'].cumsum()\n",
    "dummy['log_total_follower_count'] = np.log(dummy['total_follower_count'])"
   ]
  },
  {
   "cell_type": "code",
   "execution_count": null,
   "id": "fc4aa047-1f01-4c1e-9aca-998b4ef8361f",
   "metadata": {},
   "outputs": [],
   "source": [
    "dummy"
   ]
  },
  {
   "cell_type": "code",
   "execution_count": null,
   "id": "2b67a529-90e7-4fab-93f4-50163e122860",
   "metadata": {},
   "outputs": [],
   "source": [
    "# exponential trendline\n",
    "from scipy.optimize import curve_fit\n",
    "p0,_ = curve_fit(lambda x, a, b: a*x + b, dummy['total_article_count'].values, dummy['log_total_follower_count'].values)\n",
    "\n",
    "plt.plot(dummy['total_article_count'].values, \n",
    "         np.exp(p0[0]*dummy['total_article_count'].values + p0[1]), 'o--')\n",
    "plt.plot(dummy['total_article_count'].values, dummy['total_follower_count'].values, 's--')"
   ]
  },
  {
   "cell_type": "code",
   "execution_count": null,
   "id": "0f10b148-33a4-46e1-9a60-47793c8e2612",
   "metadata": {},
   "outputs": [],
   "source": [
    "fig = px.scatter(dummy,\n",
    "                 x='total_article_count', y='total_follower_count',\n",
    "                 labels={'total_article_count': 'Cumulated published articles',\n",
    "                         'total_follower_count': 'Cumulated followers'}\n",
    "                )\n",
    "\n",
    "fig.update_traces(marker=dict(size=12,\n",
    "                              line=dict(width=2,\n",
    "                                        color='DarkSlateGrey')),\n",
    "                  mode='lines+markers',\n",
    "                  selector=dict(mode='markers'))\n",
    "fig.show()"
   ]
  },
  {
   "cell_type": "code",
   "execution_count": null,
   "id": "07875874-5b89-4fa8-b754-e7cf511ddb4f",
   "metadata": {},
   "outputs": [],
   "source": [
    "fig = px.box(dummy,\n",
    "                 x='dummy', y='new_followers',\n",
    "                 labels={'dummy': 'Articles published per month',\n",
    "                         'new_followers': 'New followers per month'\n",
    "                        },\n",
    "                )\n",
    "fig.update_xaxes(dtick=1)\n",
    "fig.show()"
   ]
  },
  {
   "cell_type": "code",
   "execution_count": null,
   "id": "a18496a2-803a-4dde-bb26-bab2fb7f11a0",
   "metadata": {},
   "outputs": [],
   "source": [
    "fig = px.scatter(dummy.loc[dummy['Date']>=pd.to_datetime('2023-08-01')],\n",
    "                 x='dummy', y='Payout',\n",
    "                 size='total_follower_count', color='total_follower_count',\n",
    "                 labels={'total_follower_count': 'Total followers (end of month)',\n",
    "                         'dummy': 'Monthly new articles',\n",
    "                         'Payout': 'Monthly revenue (US-$)'},\n",
    "                 color_continuous_scale=px.colors.sequential.Viridis\n",
    "                )\n",
    "\n",
    "fig.show()"
   ]
  },
  {
   "cell_type": "markdown",
   "id": "bed84c87-d1c7-4c7e-be14-e3f1bbe66521",
   "metadata": {},
   "source": [
    "## Analysis"
   ]
  },
  {
   "cell_type": "code",
   "execution_count": null,
   "id": "543c98fc-2dd0-4a37-be42-2226687e5e78",
   "metadata": {},
   "outputs": [],
   "source": [
    "fig=px.scatter(published,\n",
    "               x='Reads',\n",
    "               y='Lifetime earnings',\n",
    "               color='Publication',\n",
    "               trendline='ols',\n",
    "               trendline_scope=\"overall\",\n",
    "               width=600,\n",
    "               height=400,\n",
    "               color_discrete_sequence=px.colors.qualitative.G10,\n",
    "              )\n",
    "\n",
    "fig.update_layout(\n",
    "    legend=dict(yanchor=\"top\", y=1.2, xanchor=\"left\", x=0.01, orientation=\"h\",\n",
    "))\n",
    "\n",
    "fig.show()\n",
    "\n",
    "results = px.get_trendline_results(fig)\n",
    "print(results.iloc[0][\"px_fit_results\"].summary())"
   ]
  },
  {
   "cell_type": "code",
   "execution_count": null,
   "id": "659b8f49-1013-41ab-99a6-6f367128fee2",
   "metadata": {},
   "outputs": [],
   "source": [
    "fig=px.scatter(published,\n",
    "               x='Views',\n",
    "               y='Lifetime earnings',\n",
    "               color='Publication',\n",
    "               trendline='ols',\n",
    "               trendline_scope=\"overall\",\n",
    "               width=600,\n",
    "               height=400,\n",
    "               color_discrete_sequence=px.colors.qualitative.G10,\n",
    "              )\n",
    "\n",
    "fig.update_layout(\n",
    "    legend=dict(yanchor=\"top\", y=1.2, xanchor=\"left\", x=0.01, orientation=\"h\",\n",
    "))\n",
    "\n",
    "fig.show()\n",
    "\n",
    "results = px.get_trendline_results(fig)\n",
    "print(results.iloc[0][\"px_fit_results\"].summary())"
   ]
  },
  {
   "cell_type": "code",
   "execution_count": null,
   "id": "b152343c-72b1-4d1c-8622-8d741c085e51",
   "metadata": {},
   "outputs": [],
   "source": [
    "fig=px.scatter(published,\n",
    "               x='Claps',\n",
    "               y='Lifetime earnings',\n",
    "               color='Publication',\n",
    "               trendline='ols',\n",
    "               trendline_scope=\"overall\",\n",
    "               width=600,\n",
    "               height=400,\n",
    "               color_discrete_sequence=px.colors.qualitative.G10,\n",
    "              )\n",
    "\n",
    "fig.update_layout(\n",
    "    legend=dict(yanchor=\"top\", y=1.2, xanchor=\"left\", x=0.01, orientation=\"h\",\n",
    "))\n",
    "\n",
    "fig.show()\n",
    "\n",
    "results = px.get_trendline_results(fig)\n",
    "print(results.iloc[0][\"px_fit_results\"].summary())"
   ]
  },
  {
   "cell_type": "code",
   "execution_count": null,
   "id": "0ce1e3cd-d854-4457-8ad1-870e5674a963",
   "metadata": {},
   "outputs": [],
   "source": [
    "published['reads_views_frac'] = published['Reads'] / published['Views'] * 100"
   ]
  },
  {
   "cell_type": "code",
   "execution_count": null,
   "id": "16c0ae93-74d6-410b-89eb-caf59df89348",
   "metadata": {},
   "outputs": [],
   "source": [
    "fig = px.box(published,\n",
    "             y='reads_views_frac', x='Publication',\n",
    "             color='Publication',\n",
    "             color_discrete_sequence=px.colors.qualitative.G10,\n",
    "             points='all',\n",
    "             hover_name='Title',\n",
    "            )\n",
    "\n",
    "fig.update_layout(\n",
    "    legend=dict(yanchor=\"top\", y=1.2, xanchor=\"left\", x=0.01, orientation=\"h\",\n",
    "))\n",
    "fig.update_yaxes(title='Read ratio (%)')\n",
    "fig.show()"
   ]
  },
  {
   "cell_type": "markdown",
   "id": "a34a29ed-68f6-4bcb-b175-beed0658ea0d",
   "metadata": {},
   "source": [
    "## Sklearn"
   ]
  },
  {
   "cell_type": "code",
   "execution_count": null,
   "id": "247b2f29-ebed-4898-84ab-ab60634c0832",
   "metadata": {},
   "outputs": [],
   "source": [
    "from sklearn.ensemble import RandomForestRegressor\n",
    "from sklearn.preprocessing import OrdinalEncoder"
   ]
  },
  {
   "cell_type": "code",
   "execution_count": null,
   "id": "2df19a2c-6537-401d-9c0f-ed8cc952732c",
   "metadata": {},
   "outputs": [],
   "source": [
    "X = published[['Publication', 'Views', 'Reads', 'Length (mins)', 'Claps', 'Responses',\n",
    "       #'Member reads', 'Non-member reads', 'Member read ratio', 'Claps',\n",
    "       #'Highlights', 'Replies', 'Follows',\n",
    "              ]].copy()\n",
    "y = published['Lifetime earnings'].copy()"
   ]
  },
  {
   "cell_type": "code",
   "execution_count": null,
   "id": "7b92af35-bae3-492c-b418-f4a97fc87ff9",
   "metadata": {},
   "outputs": [],
   "source": [
    "enc = OrdinalEncoder()\n",
    "X['Publication_enc'] = enc.fit_transform(X['Publication'].values.reshape(-1, 1)).squeeze()\n",
    "X = X.drop(columns=['Publication'])"
   ]
  },
  {
   "cell_type": "code",
   "execution_count": null,
   "id": "7e3402d7-4afd-458c-ad11-d2664b44ebb4",
   "metadata": {},
   "outputs": [],
   "source": [
    "rf = RandomForestRegressor()\n",
    "rf.fit(X, y)"
   ]
  },
  {
   "cell_type": "code",
   "execution_count": null,
   "id": "b356e4f7-22bf-4e61-85e4-e6e08195cdf1",
   "metadata": {},
   "outputs": [],
   "source": [
    "rf.score(X, y)"
   ]
  },
  {
   "cell_type": "code",
   "execution_count": null,
   "id": "ba6a894d-0178-4e3a-94d1-cb04cfb7ef36",
   "metadata": {},
   "outputs": [],
   "source": [
    "tmp = pd.DataFrame(dict(fimp=rf.feature_importances_, name=rf.feature_names_in_)).sort_values('fimp')"
   ]
  },
  {
   "cell_type": "code",
   "execution_count": null,
   "id": "85e41cde-cf93-424c-a451-ec9d99047d21",
   "metadata": {},
   "outputs": [],
   "source": [
    "sns.barplot(data=tmp, y='name', x='fimp')\n",
    "ax=plt.gca()\n",
    "ax.set_xlabel('Feature importance')\n",
    "ax.set_ylabel('Feature name')"
   ]
  },
  {
   "cell_type": "code",
   "execution_count": null,
   "id": "ff3e20e0-ad5c-4ec7-b6c4-98ac24629228",
   "metadata": {},
   "outputs": [],
   "source": []
  }
 ],
 "metadata": {
  "kernelspec": {
   "display_name": "Python 3 (ipykernel)",
   "language": "python",
   "name": "python3"
  },
  "language_info": {
   "codemirror_mode": {
    "name": "ipython",
    "version": 3
   },
   "file_extension": ".py",
   "mimetype": "text/x-python",
   "name": "python",
   "nbconvert_exporter": "python",
   "pygments_lexer": "ipython3",
   "version": "3.10.4"
  }
 },
 "nbformat": 4,
 "nbformat_minor": 5
}
