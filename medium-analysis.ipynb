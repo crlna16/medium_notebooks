{
 "cells": [
  {
   "cell_type": "code",
   "execution_count": null,
   "id": "33ceed9b-0413-4dc9-8e3e-58c5f8bc5182",
   "metadata": {},
   "outputs": [],
   "source": [
    "import pandas as pd\n",
    "from matplotlib import pyplot as plt\n",
    "import seaborn as sns\n",
    "import numpy as np\n",
    "\n",
    "import plotly.express as px"
   ]
  },
  {
   "cell_type": "code",
   "execution_count": null,
   "id": "2b5f757f-1e90-480d-af7d-86e7b87347ce",
   "metadata": {},
   "outputs": [],
   "source": [
    "medium = pd.read_excel('medium-posting-schedule.xlsx')"
   ]
  },
  {
   "cell_type": "code",
   "execution_count": null,
   "id": "c709ffcf-cb30-45a7-a9b7-0563ac943838",
   "metadata": {},
   "outputs": [],
   "source": [
    "medium['Stats updated'].value_counts()"
   ]
  },
  {
   "cell_type": "markdown",
   "id": "f527b18b-4d7c-420b-8af2-ae2cb18ef8b1",
   "metadata": {},
   "source": [
    "## Article stats"
   ]
  },
  {
   "cell_type": "code",
   "execution_count": null,
   "id": "828f7dd3-4b0f-47d1-8c9c-440fbae23097",
   "metadata": {},
   "outputs": [],
   "source": [
    "fig=px.bar(medium['Status'].value_counts().reset_index(), \n",
    "           x='index', y='Status', color='index',\n",
    "           category_orders={'index': ['published', 'submitted', 'finished draft', 'early draft', 'idea']},\n",
    "           labels={'index': 'Article status', 'Status': 'Article count'},\n",
    "           color_discrete_sequence=px.colors.qualitative.G10,\n",
    "           width=500,\n",
    "           text_auto='.0f',\n",
    "          )\n",
    "fig.update_layout(showlegend=False)\n",
    "fig.show()"
   ]
  },
  {
   "cell_type": "code",
   "execution_count": null,
   "id": "9ad3e4ef-af17-4af6-898a-fe2fea8cd86f",
   "metadata": {},
   "outputs": [],
   "source": [
    "cond = medium['Status'] == 'published'\n",
    "published = medium[cond].copy()\n",
    "published"
   ]
  },
  {
   "cell_type": "code",
   "execution_count": null,
   "id": "49dbfd09-a8e5-4373-8d9e-3ae0349457f6",
   "metadata": {},
   "outputs": [],
   "source": [
    "fig=px.bar(published['Publication'].value_counts().reset_index(), \n",
    "           x='index', y='Publication', color='index',\n",
    "           labels={'index': 'Publication', 'Status': 'Article count'},\n",
    "           color_discrete_sequence=px.colors.qualitative.G10,\n",
    "           width=500,\n",
    "           text_auto='.0f',\n",
    "          )\n",
    "fig.update_layout(showlegend=False)\n",
    "fig.show()"
   ]
  },
  {
   "cell_type": "code",
   "execution_count": null,
   "id": "01caf150-f7d2-4b50-a040-098b37b6a353",
   "metadata": {},
   "outputs": [],
   "source": [
    "fig=px.scatter(published['Acceptance date'].value_counts().reset_index(),\n",
    "               x='index', y='Acceptance date', size='Acceptance date',\n",
    "               labels={'index': 'Acceptance date', 'Acceptance date':'Article count'}, \n",
    "              )\n",
    "fig.show()"
   ]
  },
  {
   "cell_type": "code",
   "execution_count": null,
   "id": "f5dd6ce9-9d0b-44dc-b1ee-db33f5230a93",
   "metadata": {},
   "outputs": [],
   "source": [
    "# TODO divide this by posts accepted in publications\n",
    "# and posts published on my page\n",
    "\n",
    "this_df = (published['Acceptance date'].sort_values() - published['Acceptance date'].sort_values().shift()).dropna().dt.days\n",
    "\n",
    "fig=px.violin(this_df,\n",
    "              labels={'variable': '', 'value': 'Post frequency (days)'},\n",
    "              width=800,\n",
    "              box=True,\n",
    "              points='all',\n",
    "              orientation='h',\n",
    "             )\n",
    "\n",
    "fig.add_annotation(text=f'Median: {this_df.median():.1f} days', x=0, xref='paper', y=1, yref='paper', showarrow=False,\n",
    "                   bgcolor='white',\n",
    "                  )\n",
    "fig.update_xaxes(tick0=0, dtick=1)\n",
    "fig.update_yaxes(labelalias={'Acceptance date': ''})\n",
    "fig.show()"
   ]
  },
  {
   "cell_type": "code",
   "execution_count": null,
   "id": "bd8c6c04-f35c-49fb-83e6-2471fd3da4f4",
   "metadata": {},
   "outputs": [],
   "source": [
    "fig=px.box(published,\n",
    "           x='Publication', y='Lifetime earnings', color='Publication',\n",
    "           labels={'Lifetime earnings': 'Lifetime earnings ($)'},\n",
    "           color_discrete_sequence=px.colors.qualitative.G10,\n",
    "           log_y=True,\n",
    "           width=600,\n",
    "          )\n",
    "fig.update_layout(\n",
    "    legend=dict(yanchor=\"top\", y=1.2, xanchor=\"left\", x=0.01, orientation=\"h\",\n",
    "))\n",
    "fig.add_annotation(text=f'Total earnings: {published[\"Lifetime earnings\"].sum():.2f} $',\n",
    "                   x=0.9, xref='paper',\n",
    "                   y=0.9, yref='paper', \n",
    "                   showarrow=False,  \n",
    "                   bgcolor='white',\n",
    "                  )\n",
    "fig.show()"
   ]
  },
  {
   "cell_type": "code",
   "execution_count": null,
   "id": "5b23927c-c492-4523-9b9f-17ab68367e27",
   "metadata": {},
   "outputs": [],
   "source": [
    "published['Lifetime'] = (published['Stats updated'] - published['Acceptance date']).dt.days\n",
    "\n",
    "fig=px.scatter(published.sort_values('Lifetime'),\n",
    "               x='Lifetime',\n",
    "               y='Lifetime earnings',\n",
    "               color='Publication',\n",
    "               color_discrete_sequence=px.colors.qualitative.G10,\n",
    "               labels={'Lifetime earnings': 'Lifetime earnings ($)', 'Lifetime': 'Lifetime (days)'},\n",
    "               width=600,\n",
    "              )\n",
    "fig.update_traces(marker=dict(size=12,\n",
    "                              line=dict(width=2,\n",
    "                                        color='DarkSlateGrey')),\n",
    "                  mode='lines+markers',\n",
    "                  selector=dict(mode='markers'))\n",
    "fig.update_xaxes(autorange=\"reversed\")\n",
    "fig.update_layout(\n",
    "    legend=dict(yanchor=\"top\", y=1.2, xanchor=\"left\", x=0.01, orientation=\"h\",\n",
    "))\n",
    "fig.show()"
   ]
  },
  {
   "cell_type": "code",
   "execution_count": null,
   "id": "90e552e2-5799-4030-a88e-3922a8e9a5a7",
   "metadata": {},
   "outputs": [],
   "source": [
    "fig=px.bar(published,\n",
    "           x='Lifetime earnings',\n",
    "           y='Title', color='Lifetime earnings',\n",
    "           labels={'Lifetime earnings': 'Lifetime earnings ($)', 'Title': ''},\n",
    "           color_continuous_scale=px.colors.sequential.Viridis,\n",
    "          )\n",
    "\n",
    "fig.update_layout(yaxis={'categoryorder':'total ascending'})\n",
    "fig.show()"
   ]
  },
  {
   "cell_type": "code",
   "execution_count": null,
   "id": "0443fe8a-b4ae-45e9-9aff-a4b5345217fa",
   "metadata": {},
   "outputs": [],
   "source": [
    "fig=px.bar(published,\n",
    "           x='Lifetime earnings',\n",
    "           y='Title', color='Publication',\n",
    "           labels={'Lifetime earnings': 'Lifetime earnings ($)', 'Title': ''},\n",
    "           color_discrete_sequence=px.colors.qualitative.G10,\n",
    "          )\n",
    "\n",
    "fig.update_layout(\n",
    "    legend=dict(yanchor=\"top\", y=1.2, xanchor=\"left\", x=0.01, orientation=\"h\",\n",
    "))\n",
    "fig.update_layout(yaxis={'categoryorder':'total ascending'})\n",
    "fig.show()"
   ]
  },
  {
   "cell_type": "code",
   "execution_count": null,
   "id": "84e89ff3-3a6e-4ef9-b6b8-63126227213a",
   "metadata": {},
   "outputs": [],
   "source": [
    "fig=px.violin(published,\n",
    "              x='Publication',\n",
    "              y='Member read ratio',\n",
    "              color='Publication',\n",
    "              color_discrete_sequence=px.colors.qualitative.G10,\n",
    "              box=True,\n",
    "              width=600,\n",
    "             )\n",
    "\n",
    "fig.update_layout(\n",
    "    legend=dict(yanchor=\"top\", y=1.2, xanchor=\"left\", x=0.01, orientation=\"h\",\n",
    "))\n",
    "fig.show()"
   ]
  },
  {
   "cell_type": "code",
   "execution_count": null,
   "id": "ffe34d60-5bec-4e86-9345-7a2fc59f2c96",
   "metadata": {},
   "outputs": [],
   "source": [
    "fig=px.timeline(published,\n",
    "                x_start='Submission date', x_end='Acceptance date',\n",
    "                y='Publication',\n",
    "                color='Publication',\n",
    "                color_discrete_sequence=px.colors.qualitative.G10,\n",
    "               )\n",
    "\n",
    "fig.update_layout(\n",
    "    legend=dict(yanchor=\"top\", y=1.2, xanchor=\"left\", x=0.01, orientation=\"h\",\n",
    "))\n",
    "fig.update_xaxes(title='Time line')\n",
    "fig.show()"
   ]
  },
  {
   "cell_type": "markdown",
   "id": "92d11222-44be-4346-b2f1-78f40ea5446a",
   "metadata": {},
   "source": [
    "## Topic processing"
   ]
  },
  {
   "cell_type": "code",
   "execution_count": null,
   "id": "79caaa7b-2750-42dd-9749-dc79ffad036b",
   "metadata": {},
   "outputs": [],
   "source": [
    "topics = published[['Topic 1', 'Topic 2', 'Topic 3', 'Topic 4', 'Topic 5']]"
   ]
  },
  {
   "cell_type": "code",
   "execution_count": null,
   "id": "43d724a8-3aa1-4523-a603-7f1d2b57a877",
   "metadata": {},
   "outputs": [],
   "source": [
    "unique_topics = []\n",
    "for c in topics.columns:\n",
    "    unique_topics.extend(topics[c].unique())\n",
    "unique_topics = np.sort(np.unique(unique_topics))"
   ]
  },
  {
   "cell_type": "code",
   "execution_count": null,
   "id": "ea63e976-f398-412e-9abb-5f58a6cc6912",
   "metadata": {
    "scrolled": true,
    "tags": []
   },
   "outputs": [],
   "source": [
    "newhead = []\n",
    "for ut in unique_topics:\n",
    "    newcol = []\n",
    "    for i in range(topics.shape[0]):\n",
    "        newcol.append(ut in topics.iloc[i].values)\n",
    "        \n",
    "    published['TOPIC_'+ut] = newcol\n",
    "    newhead.append('TOPIC_'+ut)"
   ]
  },
  {
   "cell_type": "code",
   "execution_count": null,
   "id": "e098a8be-7309-4eb1-8020-43ca09e6fadd",
   "metadata": {},
   "outputs": [],
   "source": [
    "tmp = published[newhead].sum().to_frame().reset_index()\n",
    "tmp.columns = ['topic', 'count']\n",
    "tmp['topic'] = tmp['topic'].apply(lambda x: x.replace('TOPIC_', ''))\n",
    "\n",
    "# https://www.wortwolken.com/\n",
    "tmp = tmp[['count', 'topic']]\n",
    "tmp.to_csv('medium_topic_count.csv', index=False, header=False)"
   ]
  },
  {
   "cell_type": "code",
   "execution_count": null,
   "id": "2a8d571e-99b6-48b1-88fa-9fba728f2c91",
   "metadata": {},
   "outputs": [],
   "source": [
    "fig=px.bar(tmp, x='topic', y='count',\n",
    "           color='count',\n",
    "           color_continuous_scale=px.colors.sequential.Viridis,\n",
    "          )\n",
    "\n",
    "fig.update_yaxes(title='Articles under topic')\n",
    "fig.update_xaxes(title='Topic', categoryorder='total descending')\n",
    "fig.show()"
   ]
  },
  {
   "cell_type": "markdown",
   "id": "bed84c87-d1c7-4c7e-be14-e3f1bbe66521",
   "metadata": {},
   "source": [
    "## Analysis"
   ]
  },
  {
   "cell_type": "code",
   "execution_count": null,
   "id": "543c98fc-2dd0-4a37-be42-2226687e5e78",
   "metadata": {},
   "outputs": [],
   "source": [
    "fig=px.scatter(published,\n",
    "               x='Reads',\n",
    "               y='Lifetime earnings',\n",
    "               color='Publication',\n",
    "               trendline='ols',\n",
    "               trendline_scope=\"overall\",\n",
    "               width=600,\n",
    "               height=400,\n",
    "               color_discrete_sequence=px.colors.qualitative.G10,\n",
    "              )\n",
    "\n",
    "fig.update_layout(\n",
    "    legend=dict(yanchor=\"top\", y=1.2, xanchor=\"left\", x=0.01, orientation=\"h\",\n",
    "))\n",
    "\n",
    "fig.show()\n",
    "\n",
    "results = px.get_trendline_results(fig)\n",
    "print(results.iloc[0][\"px_fit_results\"].summary())"
   ]
  },
  {
   "cell_type": "code",
   "execution_count": null,
   "id": "acc10c59-ae80-48f4-80f6-15898402a6d8",
   "metadata": {},
   "outputs": [],
   "source": [
    "fig=px.scatter(published,\n",
    "               x='Member reads',\n",
    "               y='Lifetime earnings',\n",
    "               color='Publication',\n",
    "               trendline='ols',\n",
    "               trendline_scope=\"overall\",\n",
    "               width=600,\n",
    "               height=400,\n",
    "               color_discrete_sequence=px.colors.qualitative.G10,\n",
    "              )\n",
    "\n",
    "fig.update_layout(\n",
    "    legend=dict(yanchor=\"top\", y=1.2, xanchor=\"left\", x=0.01, orientation=\"h\",\n",
    "))\n",
    "\n",
    "fig.show()\n",
    "\n",
    "results = px.get_trendline_results(fig)\n",
    "print(results.iloc[0][\"px_fit_results\"].summary())"
   ]
  },
  {
   "cell_type": "markdown",
   "id": "a34a29ed-68f6-4bcb-b175-beed0658ea0d",
   "metadata": {},
   "source": [
    "## Sklearn"
   ]
  },
  {
   "cell_type": "code",
   "execution_count": null,
   "id": "247b2f29-ebed-4898-84ab-ab60634c0832",
   "metadata": {},
   "outputs": [],
   "source": [
    "from sklearn.ensemble import RandomForestRegressor\n",
    "from sklearn.preprocessing import OrdinalEncoder"
   ]
  },
  {
   "cell_type": "code",
   "execution_count": null,
   "id": "2df19a2c-6537-401d-9c0f-ed8cc952732c",
   "metadata": {},
   "outputs": [],
   "source": [
    "X = published[['Publication', 'Views', 'Reads ', 'Length (mins)',\n",
    "       #'Member reads', 'Non-member reads', 'Member read ratio', 'Claps',\n",
    "       #'Highlights', 'Replies', 'Follows',\n",
    "              ]].copy()\n",
    "y = published['Lifetime earnings'].copy()"
   ]
  },
  {
   "cell_type": "code",
   "execution_count": null,
   "id": "7b92af35-bae3-492c-b418-f4a97fc87ff9",
   "metadata": {},
   "outputs": [],
   "source": [
    "enc = OrdinalEncoder()\n",
    "X['Publication_enc'] = enc.fit_transform(X['Publication'].values.reshape(-1, 1)).squeeze()\n",
    "X = X.drop(columns=['Publication'])"
   ]
  },
  {
   "cell_type": "code",
   "execution_count": null,
   "id": "7e3402d7-4afd-458c-ad11-d2664b44ebb4",
   "metadata": {},
   "outputs": [],
   "source": [
    "rf = RandomForestRegressor()\n",
    "rf.fit(X, y)"
   ]
  },
  {
   "cell_type": "code",
   "execution_count": null,
   "id": "b356e4f7-22bf-4e61-85e4-e6e08195cdf1",
   "metadata": {},
   "outputs": [],
   "source": [
    "rf.score(X, y)"
   ]
  },
  {
   "cell_type": "code",
   "execution_count": null,
   "id": "ba6a894d-0178-4e3a-94d1-cb04cfb7ef36",
   "metadata": {},
   "outputs": [],
   "source": [
    "tmp = pd.DataFrame(dict(fimp=rf.feature_importances_, name=rf.feature_names_in_)).sort_values('fimp')"
   ]
  },
  {
   "cell_type": "code",
   "execution_count": null,
   "id": "85e41cde-cf93-424c-a451-ec9d99047d21",
   "metadata": {},
   "outputs": [],
   "source": [
    "sns.barplot(data=tmp, y='name', x='fimp')\n",
    "ax=plt.gca()\n",
    "ax.set_xlabel('Feature importance')\n",
    "ax.set_ylabel('Feature name')"
   ]
  },
  {
   "cell_type": "code",
   "execution_count": null,
   "id": "ff3e20e0-ad5c-4ec7-b6c4-98ac24629228",
   "metadata": {},
   "outputs": [],
   "source": []
  }
 ],
 "metadata": {
  "kernelspec": {
   "display_name": "Python 3 (ipykernel)",
   "language": "python",
   "name": "python3"
  },
  "language_info": {
   "codemirror_mode": {
    "name": "ipython",
    "version": 3
   },
   "file_extension": ".py",
   "mimetype": "text/x-python",
   "name": "python",
   "nbconvert_exporter": "python",
   "pygments_lexer": "ipython3",
   "version": "3.10.4"
  }
 },
 "nbformat": 4,
 "nbformat_minor": 5
}
