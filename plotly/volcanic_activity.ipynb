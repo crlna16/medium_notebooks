{
 "cells": [
  {
   "cell_type": "code",
   "execution_count": null,
   "id": "7609b084-3a8e-4daf-8aec-3d31a1b6cd5e",
   "metadata": {},
   "outputs": [],
   "source": [
    "import plotly.express as px\n",
    "import pandas as pd"
   ]
  },
  {
   "cell_type": "markdown",
   "id": "66c96706-3083-4604-ad4b-f44a97b47d8f",
   "metadata": {},
   "source": [
    "https://public.opendatasoft.com/explore/dataset/significant-volcanic-eruption-database/export/\n",
    "\n",
    " This dataset is licensed under : U.S. Government Work \n",
    "    \n",
    "    https://www.usa.gov/government-works\n",
    "    \n",
    "   The Significant Volcanic Eruption Database is a global listing of over 500 significant eruptions which includes information on the latitude, longitude, elevation, type of volcano, and last known eruption. A significant eruption is classified as one that meets at least one of the following criteria: caused fatalities, caused moderate damage (approximately $1 million or more), with a Volcanic Explosivity Index (VEI) of 6 or larger, caused a tsunami, or was associated with a major earthquake."
   ]
  },
  {
   "cell_type": "markdown",
   "id": "364f4044-aa27-46fc-af48-c75353a37e52",
   "metadata": {},
   "source": [
    "## Data preparation"
   ]
  },
  {
   "cell_type": "code",
   "execution_count": null,
   "id": "c868bd52-c0ff-4f45-8ee3-7ef338c5c3d4",
   "metadata": {},
   "outputs": [],
   "source": [
    "df = pd.read_csv('significant-volcanic-eruption-database.csv', delimiter=';')\n",
    "df = df.dropna(axis=1, how='all')\n",
    "\n",
    "\n",
    "df = df.replace(\n",
    "    {\n",
    "        'Flag Tsunami': {'Tsunami': True, None: False},\n",
    "        'Flag Earthquake': {'Earthquake': True, None: False},\n",
    "    }\n",
    "               )"
   ]
  },
  {
   "cell_type": "code",
   "execution_count": null,
   "id": "95674d46-003d-4e27-83d4-ab12f7466985",
   "metadata": {},
   "outputs": [],
   "source": [
    "df['Latitude'] = df['Coordinates'].apply(lambda x: x.split(',')[0])\n",
    "df['Longitude'] = df['Coordinates'].apply(lambda x: x.split(',')[1])"
   ]
  },
  {
   "cell_type": "code",
   "execution_count": null,
   "id": "1bf71cb9-5fd0-45ba-80b4-7956e67a521f",
   "metadata": {},
   "outputs": [],
   "source": [
    "df = df.fillna({'Volcanic Explosivity Index': 0, 'Volcano : Deaths': 0, 'Total Effects : Deaths': 0})\n",
    "\n",
    "df = df.drop(columns=['Total Effects : Houses Destroyed', 'Total Effects : Houses Destroyed Description',\n",
    "                      'Total Effects : Missing', 'Total Effects : Missing Description',\n",
    "                      'Total Effects : Injuries', 'Total Effects : Injuries Description',\n",
    "                      'Total Effects : Damages in million Dollars', 'Total Effects : Damage Description',\n",
    "                      'Volcano : Houses destroyed', 'Volcano : Houses destroyed Description',\n",
    "                      'Volcano : Missing', 'Volcano : Missing Description',\n",
    "                      'Volcano : Injuries', 'Volcano : Injuries Description',\n",
    "                      'Volcano : Damage (in M$)', 'Volcano : Damage Description',\n",
    "                      'Volcano : Deaths Description', 'Total Effects : Deaths Description',\n",
    "                      'Month', 'Day', 'Status', 'Coordinates', 'Location',\n",
    "                     ])"
   ]
  },
  {
   "cell_type": "code",
   "execution_count": null,
   "id": "9580fb49-7670-445a-9352-13159a163986",
   "metadata": {},
   "outputs": [],
   "source": [
    "df"
   ]
  },
  {
   "cell_type": "markdown",
   "id": "9910857c-99a6-4fb7-acd0-6c5b2e0439b0",
   "metadata": {
    "tags": []
   },
   "source": [
    "## Plots for blog post"
   ]
  },
  {
   "cell_type": "markdown",
   "id": "ac6b1f61-6291-42a1-a329-378f402d30cc",
   "metadata": {
    "tags": []
   },
   "source": [
    "### 1 - Scatter plot: Volcanic Explosivity Index"
   ]
  },
  {
   "cell_type": "code",
   "execution_count": null,
   "id": "ab1e28f2-bbe2-4ee8-8667-e4a7fc3bd2e1",
   "metadata": {},
   "outputs": [],
   "source": [
    "fig = px.scatter_geo(df, \n",
    "                     lat='Latitude', lon='Longitude',\n",
    "                     size='Volcanic Explosivity Index',\n",
    "                     color='Volcanic Explosivity Index',\n",
    "                     projection='natural earth',\n",
    "                     #center={'lon':180, 'lat':0},\n",
    "                     width=800,\n",
    "                    )\n",
    "\n",
    "fig.show()"
   ]
  },
  {
   "cell_type": "markdown",
   "id": "a1ea1840-8b47-4d4f-bedc-fefbc0728fa0",
   "metadata": {
    "tags": []
   },
   "source": [
    "### 2 - Bubble plot: Volcanic Explosivity Index"
   ]
  },
  {
   "cell_type": "code",
   "execution_count": null,
   "id": "fe5f14ab-0dca-4787-8aba-a11ad1317a79",
   "metadata": {},
   "outputs": [],
   "source": [
    "fig = px.scatter_geo(df, \n",
    "                     lat='Latitude', lon='Longitude',\n",
    "                     size='Volcanic Explosivity Index',\n",
    "                     color='Volcanic Explosivity Index',\n",
    "                     #center={'lon':180, 'lat':0},\n",
    "                     #width=800,\n",
    "                     scope='asia',\n",
    "                    )\n",
    "\n",
    "fig.show()"
   ]
  },
  {
   "cell_type": "markdown",
   "id": "951bf535-ef49-4ffd-b369-10e9f1623827",
   "metadata": {
    "tags": []
   },
   "source": [
    "### 3 - Density plot on terrain map - Deaths caused"
   ]
  },
  {
   "cell_type": "markdown",
   "id": "a5710013-8c69-461f-93ca-42a2809ba990",
   "metadata": {
    "tags": []
   },
   "source": [
    "### 4 - With Tsunami on terrain map"
   ]
  },
  {
   "cell_type": "markdown",
   "id": "43fc34d6-1f5a-4c54-9fef-a544a7345670",
   "metadata": {
    "tags": []
   },
   "source": [
    "### 5 - Other map projection"
   ]
  },
  {
   "cell_type": "code",
   "execution_count": null,
   "id": "78d4c577-5462-41bf-8d10-0dbd0432e191",
   "metadata": {},
   "outputs": [],
   "source": [
    "['airy', 'aitoff', 'albers', 'albers usa', 'august',\n",
    "            'azimuthal equal area', 'azimuthal equidistant', 'baker',\n",
    "            'bertin1953', 'boggs', 'bonne', 'bottomley', 'bromley',\n",
    "            'collignon', 'conic conformal', 'conic equal area', 'conic\n",
    "            equidistant', 'craig', 'craster', 'cylindrical equal\n",
    "            area', 'cylindrical stereographic', 'eckert1', 'eckert2',\n",
    "            'eckert3', 'eckert4', 'eckert5', 'eckert6', 'eisenlohr',\n",
    "            'equal earth', 'equirectangular', 'fahey', 'foucaut',\n",
    "            'foucaut sinusoidal', 'ginzburg4', 'ginzburg5',\n",
    "            'ginzburg6', 'ginzburg8', 'ginzburg9', 'gnomonic',\n",
    "            'gringorten', 'gringorten quincuncial', 'guyou', 'hammer',\n",
    "            'hill', 'homolosine', 'hufnagel', 'hyperelliptical',\n",
    "            'kavrayskiy7', 'lagrange', 'larrivee', 'laskowski',\n",
    "            'loximuthal', 'mercator', 'miller', 'mollweide', 'mt flat\n",
    "            polar parabolic', 'mt flat polar quartic', 'mt flat polar\n",
    "            sinusoidal', 'natural earth', 'natural earth1', 'natural\n",
    "            earth2', 'nell hammer', 'nicolosi', 'orthographic',\n",
    "            'patterson', 'peirce quincuncial', 'polyconic',\n",
    "            'rectangular polyconic', 'robinson', 'satellite', 'sinu\n",
    "            mollweide', 'sinusoidal', 'stereographic', 'times',\n",
    "            'transverse mercator', 'van der grinten', 'van der\n",
    "            grinten2', 'van der grinten3', 'van der grinten4',\n",
    "            'wagner4', 'wagner6', 'wiechel', 'winkel tripel',\n",
    "            'winkel3']"
   ]
  },
  {
   "cell_type": "markdown",
   "id": "0ecf9e07-f6e8-4020-8c9c-880a2922e0a5",
   "metadata": {},
   "source": [
    "# Old stuff below"
   ]
  },
  {
   "cell_type": "code",
   "execution_count": null,
   "id": "c22ca453-93c8-47ec-83c0-1a7cbd883aeb",
   "metadata": {},
   "outputs": [],
   "source": [
    "fig = px.scatter_geo(df, \n",
    "                     lat='Latitude', lon='Longitude',\n",
    "                     size='Volcanic Explosivity Index',\n",
    "                     color='Volcano Type',\n",
    "                     width=800,\n",
    "                     color_discrete_sequence=px.colors.qualitative.G10,\n",
    "                     projection='mollweide',\n",
    "                    )\n",
    "\n",
    "fig.show()"
   ]
  },
  {
   "cell_type": "code",
   "execution_count": null,
   "id": "e2952e92-7f0c-4870-bfdc-41bb023f2017",
   "metadata": {},
   "outputs": [],
   "source": [
    "fig = px.scatter_geo(df, \n",
    "                     lat='Latitude', lon='Longitude',\n",
    "                     color='Year',\n",
    "                     width=800,\n",
    "                     color_continuous_scale=px.colors.sequential.Burg,\n",
    "                     projection='mollweide',\n",
    "                    )\n",
    "\n",
    "fig.show()"
   ]
  },
  {
   "cell_type": "markdown",
   "id": "0a1b5518-b241-4e15-a8a1-124c0d411ae2",
   "metadata": {},
   "source": [
    "### With Tsunami"
   ]
  },
  {
   "cell_type": "code",
   "execution_count": null,
   "id": "3f2720b8-2e16-4ae2-b7b6-a3b2b18bcb2b",
   "metadata": {},
   "outputs": [],
   "source": [
    "fig = px.scatter_geo(df, \n",
    "                     lat='Latitude', lon='Longitude',\n",
    "                     color='Flag Tsunami',\n",
    "                     width=800,\n",
    "                     labels={'Flag Tsunami': 'With Tsunami'},\n",
    "                     color_discrete_sequence=px.colors.qualitative.G10,\n",
    "                     projection='natural earth',\n",
    "                     animation_frame='Year',\n",
    "                    )\n",
    "\n",
    "fig.show()"
   ]
  },
  {
   "cell_type": "code",
   "execution_count": null,
   "id": "80a7f596-66bb-43b6-8aa4-9787e2bcd8ff",
   "metadata": {},
   "outputs": [],
   "source": [
    "fig = px.scatter_geo(df, \n",
    "                     lat='Latitude', lon='Longitude',\n",
    "                     color='Flag Tsunami',\n",
    "                     width=800,\n",
    "                     labels={'Flag Tsunami': 'With Tsunami'},\n",
    "                     color_discrete_sequence=px.colors.qualitative.G10,\n",
    "                     projection='natural earth',\n",
    "                     scope='asia',\n",
    "                     basemap_visible=True,\n",
    "                    )\n",
    "\n",
    "fig.show()"
   ]
  },
  {
   "cell_type": "code",
   "execution_count": null,
   "id": "c917adb2-c41d-4f35-94e7-8c0a9f29c084",
   "metadata": {},
   "outputs": [],
   "source": [
    "fig = px.density_mapbox(df, lat='Latitude', lon='Longitude', z='Volcanic Explosivity Index', radius=10,\n",
    "                        center=dict(lat=0, lon=0), zoom=0,\n",
    "                        mapbox_style=\"stamen-terrain\",\n",
    "                        color_continuous_scale=px.colors.sequential.Magma,\n",
    "                        width=820, height=500\n",
    "                       )\n",
    "fig.show()"
   ]
  },
  {
   "cell_type": "code",
   "execution_count": null,
   "id": "2fb750cf-62c0-4419-b5ad-c7c255d8bef3",
   "metadata": {},
   "outputs": [],
   "source": [
    "fig = px.scatter_mapbox(df, lat='Latitude', lon='Longitude',\n",
    "                        center=dict(lat=0, lon=180), zoom=0,\n",
    "                        width=800,\n",
    "                       )\n",
    "fig.update_layout(mapbox_style=\"open-street-map\")\n",
    "fig.show()"
   ]
  },
  {
   "cell_type": "code",
   "execution_count": null,
   "id": "a723eed3-0844-443b-8394-ad833b8d64f7",
   "metadata": {},
   "outputs": [],
   "source": [
    "fig = px.scatter_geo(df, \n",
    "                     lat='Latitude', lon='Longitude',\n",
    "                     size='Volcanic Explosivity Index',\n",
    "                     color='Volcano Type',\n",
    "                     width=800,\n",
    "                     color_discrete_sequence=px.colors.qualitative.G10,\n",
    "                     projection='aitoff',\n",
    "                    )\n",
    "\n",
    "\n",
    "# 'equirectangular'`, `'mercator'`, `'orthographic'`, `'natural\n",
    "#    earth'`, `'kavrayskiy7'`, `'miller'`, `'robinson'`, `'eckert4'`,\n",
    "#    `'azimuthal equal area'`, `'azimuthal equidistant'`, `'conic equal\n",
    "#    area'`, `'conic conformal'`, `'conic equidistant'`, `'gnomonic'`,\n",
    "#    `'stereographic'`, `'mollweide'`, `'hammer'`, `'transverse mercator'`,\n",
    "#    `'albers usa'`, `'winkel tripel'`, `'aitoff'`,\n",
    "\n",
    "fig.show()"
   ]
  },
  {
   "cell_type": "code",
   "execution_count": null,
   "id": "f3e3baa9-28f0-4c98-ad30-8ad9ac4a28f3",
   "metadata": {},
   "outputs": [],
   "source": [
    "px.scatter_geo?"
   ]
  },
  {
   "cell_type": "code",
   "execution_count": null,
   "id": "7643a5e7-f50c-42ff-baf8-a2781c548b1c",
   "metadata": {},
   "outputs": [],
   "source": []
  }
 ],
 "metadata": {
  "kernelspec": {
   "display_name": "Python 3 (ipykernel)",
   "language": "python",
   "name": "python3"
  },
  "language_info": {
   "codemirror_mode": {
    "name": "ipython",
    "version": 3
   },
   "file_extension": ".py",
   "mimetype": "text/x-python",
   "name": "python",
   "nbconvert_exporter": "python",
   "pygments_lexer": "ipython3",
   "version": "3.10.4"
  }
 },
 "nbformat": 4,
 "nbformat_minor": 5
}
