{
 "cells": [
  {
   "cell_type": "code",
   "execution_count": null,
   "id": "0c44e7d3-7ead-4192-b81a-bd2be8c45f67",
   "metadata": {
    "scrolled": true,
    "tags": []
   },
   "outputs": [],
   "source": [
    "!pip install plotly"
   ]
  },
  {
   "cell_type": "code",
   "execution_count": null,
   "id": "0269e8f2-91fc-48b5-b9d7-7a39425e8d93",
   "metadata": {
    "scrolled": true,
    "tags": []
   },
   "outputs": [],
   "source": [
    "!pip install chart_studio"
   ]
  },
  {
   "cell_type": "code",
   "execution_count": null,
   "id": "5ed8ff8f-ad3e-4d01-a6a5-ba6af1d06b87",
   "metadata": {
    "scrolled": true,
    "tags": []
   },
   "outputs": [],
   "source": [
    "!pip install -U kaleido"
   ]
  },
  {
   "cell_type": "code",
   "execution_count": null,
   "id": "5f423e28-c6f1-49b0-a175-50c8232cc340",
   "metadata": {
    "tags": []
   },
   "outputs": [],
   "source": [
    "import plotly\n",
    "import plotly.express as px"
   ]
  },
  {
   "cell_type": "code",
   "execution_count": null,
   "id": "0d2e251f-eb2f-4bb2-81a0-623cce73c1b4",
   "metadata": {
    "tags": []
   },
   "outputs": [],
   "source": [
    "import pandas as pd\n",
    "import numpy as np\n",
    "from matplotlib import pyplot as plt"
   ]
  },
  {
   "cell_type": "markdown",
   "id": "b4bd3958-0197-4fab-a50a-f46d62d895de",
   "metadata": {},
   "source": [
    "## Data story 1\n",
    "\n",
    "Wie oft haben die einzelnen Mannschaften an der WM teilgenommen? [Wikipedia]"
   ]
  },
  {
   "cell_type": "code",
   "execution_count": null,
   "id": "646c1605-6021-4fea-9075-807247a30445",
   "metadata": {
    "tags": []
   },
   "outputs": [],
   "source": [
    "year = [1991, 1995, 1999, 2003, 2007, 2011, 2015, 2019, 2023]\n",
    "dd1 = dict(\n",
    "    year_1991=['denmark', 'germany', 'italy', 'norway', 'sweden',\n",
    "               'brazil', 'united states', 'nigeria', 'china', 'japan', 'taiwan',\n",
    "               'new zealand'],\n",
    "    year_1995=['denmark', 'germany', 'england', 'norway', 'sweden',\n",
    "               'brazil', 'canada', 'united states', 'nigeria', 'china', 'japan',\n",
    "               'australia'],\n",
    "    year_1999=['denmark', 'germany', 'italy', 'norway', 'russia', 'sweden',\n",
    "               'brazil', 'canada', 'mexico', 'united states', 'ghana', 'nigeria',\n",
    "               'china', 'japan', 'north korea', 'australia'],\n",
    "    year_2003=['germany', 'france', 'norway', 'russia', 'sweden', 'argentina',\n",
    "               'brazil', 'canada', 'united states', 'ghana', 'nigeria', 'china', 'japan', \n",
    "               'north korea', 'south korea', 'australia'],\n",
    "    year_2007=['denmark', 'germany', 'england', 'norway', 'sweden',\n",
    "               'argentina', 'brazil', 'canada', 'united states', 'ghana', 'nigeria',\n",
    "               'australia', 'china', 'japan', 'north korea', 'new zealand'],\n",
    "    year_2011=['germany', 'england', 'france', 'norway', 'sweden', 'brazil', 'columbia',\n",
    "               'canada', 'mexico', 'united states', 'guinea', 'nigeria', 'australia', 'japan',\n",
    "               'north korea', 'new zealand'],\n",
    "    year_2015=['germany', 'england', 'france', 'netherlands', 'norway', 'sweden', 'switzerland', 'spain',\n",
    "               'brazil', 'columbia', 'ecuador', 'costa rica', 'canada', 'mexico', 'united states',\n",
    "               'ivory coast', 'camerun', 'nigeria', 'australia', 'china', 'japan', 'south korea', 'thailand'],\n",
    "    year_2019=['france', 'germany', 'england', 'italy', 'scotland', 'norway', 'sweden', 'netherlands',\n",
    "               'spain', 'argentina', 'brazil', 'chile', 'united states', 'canada', 'jamaica', \n",
    "               'camerun', 'nigeria', 'south africa', 'australia', 'china', 'japan', 'south korea', 'thailand',\n",
    "               'new zealand'],\n",
    "    year_2023=['switzerland', 'norway', 'new zealand', 'philippines', 'australia', 'nigeria', \n",
    "               'canada', 'ireland', 'japan', 'spain', 'sambia', 'costa rica', \n",
    "               'england', 'denmark', 'china', 'haiti', 'netherlands', 'united states', 'portugal', 'vietnam',\n",
    "               'france', 'jamaica', 'brazil', 'panama', 'sweden', 'south africa', 'italy', 'argentina',\n",
    "               'columbia', 'morocco', 'germany', 'south korea']\n",
    "    \n",
    ")"
   ]
  },
  {
   "cell_type": "code",
   "execution_count": null,
   "id": "3a851f08-e138-4392-86c9-4acd3beb59b2",
   "metadata": {
    "tags": []
   },
   "outputs": [],
   "source": [
    "participating_countries = []\n",
    "for i, (key, value) in enumerate(dd1.items()):\n",
    "    for country in value:\n",
    "        participating_countries.append(country.title())"
   ]
  },
  {
   "cell_type": "code",
   "execution_count": null,
   "id": "5178d803-1a1d-4798-a2fd-9a2ede010107",
   "metadata": {
    "tags": []
   },
   "outputs": [],
   "source": [
    "countries, participations = np.unique(participating_countries, return_counts=True)\n",
    "sort_ix = np.argsort(participations)[::-1]"
   ]
  },
  {
   "cell_type": "code",
   "execution_count": null,
   "id": "6aa27957-079e-43b2-9e5b-059c25a06f04",
   "metadata": {
    "tags": []
   },
   "outputs": [],
   "source": [
    "countries[sort_ix]"
   ]
  },
  {
   "cell_type": "code",
   "execution_count": null,
   "id": "21117b9e-54a8-4b62-833e-153f611b24f0",
   "metadata": {
    "tags": []
   },
   "outputs": [],
   "source": [
    "c_asi = 'Asia'\n",
    "c_sam = 'South America'\n",
    "c_nam = 'North & Middle America'\n",
    "c_eur = 'Europe'\n",
    "c_afr = 'Africa'\n",
    "c_oze = 'Oceania'"
   ]
  },
  {
   "cell_type": "code",
   "execution_count": null,
   "id": "ad223fb1-4807-4459-8865-7ea51556fcab",
   "metadata": {
    "tags": []
   },
   "outputs": [],
   "source": [
    "continents = [c_asi, c_sam, c_eur, c_eur, c_nam, c_afr, c_eur, c_oze, c_nam, c_asi, c_eur, c_eur, \n",
    "          c_eur, c_oze, c_asi, c_eur, c_sam, c_asi, c_eur, c_nam, c_eur, c_afr, c_sam, c_asi, \n",
    "          c_nam, c_afr, c_eur, c_eur, c_nam, c_afr, c_nam, c_asi, c_sam, c_afr, c_sam, c_eur, \n",
    "          c_asi, c_afr, c_nam, c_eur, c_afr, c_eur, c_afr, c_asi]"
   ]
  },
  {
   "cell_type": "code",
   "execution_count": null,
   "id": "d73e8f2a-5988-4e24-a1f2-17036fe0f916",
   "metadata": {
    "tags": []
   },
   "outputs": [],
   "source": [
    "data_frame_1 = data_frame=pd.DataFrame(dict(countries=countries[sort_ix],\n",
    "                                            participations=participations[sort_ix],\n",
    "                                            continent=continents))"
   ]
  },
  {
   "cell_type": "code",
   "execution_count": null,
   "id": "891ab3b5-e52e-4605-aab3-2f0179b9275a",
   "metadata": {
    "tags": []
   },
   "outputs": [],
   "source": [
    "data_frame_1.to_csv('worldcup_1.csv')"
   ]
  },
  {
   "cell_type": "code",
   "execution_count": null,
   "id": "fb4cb9c4-7e83-415f-8b3c-9785076c1ae5",
   "metadata": {
    "tags": []
   },
   "outputs": [],
   "source": [
    "import pandas as pd\n",
    "import plotly.express as px\n",
    "\n",
    "data_frame_1 = pd.read_csv('worldcup_1.csv')\n",
    "\n",
    "fig = px.bar(data_frame_1,\n",
    "        x='countries',\n",
    "       y='participations',\n",
    "       color=data_frame_1['continent'],\n",
    "       labels=dict(countries='Country', participations='World Cup participations', continent=''),\n",
    "       width=800)\n",
    "\n",
    "fig.update_xaxes(tickmode='linear')\n",
    "\n",
    "fig.update_layout(\n",
    "    legend=dict(yanchor=\"top\", y=1.2, xanchor=\"left\", x=0.01, orientation=\"h\",\n",
    "    font=dict(size=10),\n",
    "))\n",
    "\n",
    "fig.write_image('worldcup1.svg', scale=1.0)\n",
    "\n",
    "plotly.io.write_html(fig, file='worldcup1.html', auto_open=True)\n",
    "\n",
    "fig.show()"
   ]
  },
  {
   "cell_type": "code",
   "execution_count": null,
   "id": "6776b2d0-6972-40f6-a52d-45cea90f0071",
   "metadata": {},
   "outputs": [],
   "source": []
  }
 ],
 "metadata": {
  "kernelspec": {
   "display_name": "Python 3 (based on the module python3/2023.01)",
   "language": "python",
   "name": "python3_2023_01"
  },
  "language_info": {
   "codemirror_mode": {
    "name": "ipython",
    "version": 3
   },
   "file_extension": ".py",
   "mimetype": "text/x-python",
   "name": "python",
   "nbconvert_exporter": "python",
   "pygments_lexer": "ipython3",
   "version": "3.10.10"
  }
 },
 "nbformat": 4,
 "nbformat_minor": 5
}
