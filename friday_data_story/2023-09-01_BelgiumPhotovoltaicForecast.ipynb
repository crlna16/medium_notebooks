{
 "cells": [
  {
   "cell_type": "code",
   "execution_count": null,
   "id": "135a0a6f-e6c4-4bfb-acb3-332693fd8ba4",
   "metadata": {},
   "outputs": [],
   "source": [
    "import pandas as pd\n",
    "import seaborn as sns\n",
    "from matplotlib import pyplot as plt"
   ]
  },
  {
   "cell_type": "markdown",
   "id": "9214b2e6-b077-4a7b-906a-050a52c69b41",
   "metadata": {},
   "source": [
    "Download the dataset here:\n",
    "\n",
    "https://data.opendatasoft.com/explore/dataset/ods087%40external-elia/information/?sort=datetime"
   ]
  },
  {
   "cell_type": "code",
   "execution_count": null,
   "id": "c69502ee-06fa-491f-a4f1-7d062116dece",
   "metadata": {},
   "outputs": [],
   "source": [
    "df = pd.read_csv('./data/ods087_external-elia.csv', delimiter=';')\n",
    "df"
   ]
  },
  {
   "cell_type": "code",
   "execution_count": null,
   "id": "acd7bb06-8db8-46d9-ad3d-c49532986255",
   "metadata": {},
   "outputs": [],
   "source": [
    "df['Resolution code'].value_counts()"
   ]
  },
  {
   "cell_type": "markdown",
   "id": "7c8faf7a-c9ac-4e5a-a537-f1b75d9faaca",
   "metadata": {},
   "source": [
    "**Questions**\n",
    "\n",
    "- How much photovoltaic power will be produced in Belgium's different regions in the next seven days?\n",
    "\n",
    "- How does this power relate to the total capacity?\n",
    "\n",
    "- How much of the total energy consumed in Belgium will come from photovoltaics?\n",
    "\n"
   ]
  },
  {
   "cell_type": "code",
   "execution_count": null,
   "id": "cbe18f4c-8633-4651-8acb-ceaba3b31a6c",
   "metadata": {},
   "outputs": [],
   "source": [
    "sns.set_style('whitegrid')\n",
    "sns.set_context('notebook')"
   ]
  },
  {
   "cell_type": "code",
   "execution_count": null,
   "id": "9fbf22bd-9596-4074-9774-0868625017ae",
   "metadata": {},
   "outputs": [],
   "source": [
    "sns.barplot(data=df.loc[df['Region']!='Belgium'], x='Region', y='Monitored capacity', palette='flare_r')\n",
    "ax=plt.gca()\n",
    "xt=ax.get_xticks()\n",
    "xtl=ax.get_xticklabels()\n",
    "\n",
    "ax.set_xticks(xt)\n",
    "ax.set_xticklabels(xtl, rotation=45)\n",
    "\n",
    "plt.savefig('./plots/2023-09-01_region_capacity.png', dpi=150, bbox_inches='tight')\n",
    "plt.show()"
   ]
  },
  {
   "cell_type": "code",
   "execution_count": null,
   "id": "7191b289-9dc1-47d5-9fa5-08e980bb7b18",
   "metadata": {},
   "outputs": [],
   "source": [
    "sns.lineplot(data=df.loc[df['Region']!='Belgium'], x='Datetime', y='Most recent forecast', hue='Region')"
   ]
  },
  {
   "cell_type": "code",
   "execution_count": null,
   "id": "de9fe0ad-5227-4404-920b-1860477470b0",
   "metadata": {},
   "outputs": [],
   "source": [
    "sns.lineplot(data=df.loc[df['Region']!='Belgium'], x='Datetime', y='Load factor', hue='Region')"
   ]
  },
  {
   "cell_type": "code",
   "execution_count": null,
   "id": "a2da1b9e-6d59-4cd6-9eb5-f8b039c2aab8",
   "metadata": {},
   "outputs": [],
   "source": []
  }
 ],
 "metadata": {
  "kernelspec": {
   "display_name": "Python 3 (ipykernel)",
   "language": "python",
   "name": "python3"
  },
  "language_info": {
   "codemirror_mode": {
    "name": "ipython",
    "version": 3
   },
   "file_extension": ".py",
   "mimetype": "text/x-python",
   "name": "python",
   "nbconvert_exporter": "python",
   "pygments_lexer": "ipython3",
   "version": "3.10.4"
  }
 },
 "nbformat": 4,
 "nbformat_minor": 5
}
