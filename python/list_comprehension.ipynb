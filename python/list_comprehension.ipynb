{
 "cells": [
  {
   "cell_type": "markdown",
   "id": "04454c58-1e24-4441-873a-ea11e7e061cf",
   "metadata": {},
   "source": [
    "## List comprehension example"
   ]
  },
  {
   "cell_type": "code",
   "execution_count": 1,
   "id": "73939ff1-698b-47b2-99bb-8c17c42a78b8",
   "metadata": {},
   "outputs": [],
   "source": [
    "customers = ['Susan Winter', 'Marc Summer', 'Kay Autumn', 'Belle Spring']"
   ]
  },
  {
   "cell_type": "code",
   "execution_count": 2,
   "id": "83cd26dc-e5ef-4ec0-9ca7-1c031d519174",
   "metadata": {},
   "outputs": [],
   "source": [
    "first_names_loop = []\n",
    "\n",
    "for customer in customers:\n",
    "    first_name = customer.split(' ')[0]\n",
    "    first_names_loop.append(first_name)"
   ]
  },
  {
   "cell_type": "code",
   "execution_count": 3,
   "id": "b4a9ddc7-ab24-4f28-adb7-495d87fa56d5",
   "metadata": {},
   "outputs": [],
   "source": [
    "first_names = [ customer.split(' ')[0] for customer in customers ]"
   ]
  },
  {
   "cell_type": "code",
   "execution_count": 4,
   "id": "cd3317c6-c8fc-4ed9-92a5-547dbb4d979a",
   "metadata": {},
   "outputs": [
    {
     "data": {
      "text/plain": [
       "['Susan', 'Marc', 'Kay', 'Belle']"
      ]
     },
     "execution_count": 4,
     "metadata": {},
     "output_type": "execute_result"
    }
   ],
   "source": [
    "first_names_loop"
   ]
  },
  {
   "cell_type": "code",
   "execution_count": 5,
   "id": "db5a4d2e-7941-4e12-b4cb-4540e45834a8",
   "metadata": {},
   "outputs": [
    {
     "data": {
      "text/plain": [
       "['Susan', 'Marc', 'Kay', 'Belle']"
      ]
     },
     "execution_count": 5,
     "metadata": {},
     "output_type": "execute_result"
    }
   ],
   "source": [
    "first_names"
   ]
  },
  {
   "cell_type": "code",
   "execution_count": 6,
   "id": "eea35ea1-51e1-4fe9-883f-a7a3ec4535b2",
   "metadata": {},
   "outputs": [],
   "source": [
    "assert first_names == first_names_loop"
   ]
  },
  {
   "cell_type": "markdown",
   "id": "9b89f550-0bee-4948-9705-b1ec6b20017a",
   "metadata": {},
   "source": [
    "## Conditional statements"
   ]
  },
  {
   "cell_type": "code",
   "execution_count": 7,
   "id": "c184e88f-62d3-43ad-934e-342166c7cf4e",
   "metadata": {},
   "outputs": [],
   "source": [
    "numbers = [1, 2, 4, 7, 8, 9, 12, 14, 15, 17]"
   ]
  },
  {
   "cell_type": "code",
   "execution_count": 8,
   "id": "f52f1965-2c04-4988-808d-1ba853d71b9e",
   "metadata": {},
   "outputs": [],
   "source": [
    "even_numbers_loop = []\n",
    "\n",
    "for number in numbers:\n",
    "    if number%2 == 0:\n",
    "        even_numbers_loop.append(number)"
   ]
  },
  {
   "cell_type": "code",
   "execution_count": 9,
   "id": "306471a8-544a-423d-aafa-c91d860c885b",
   "metadata": {},
   "outputs": [
    {
     "name": "stdout",
     "output_type": "stream",
     "text": [
      "[2, 4, 8, 12, 14]\n"
     ]
    }
   ],
   "source": [
    "even_numbers = [ number for number in numbers if number%2==0 ]\n",
    "print(even_numbers)"
   ]
  },
  {
   "cell_type": "markdown",
   "id": "a66ccf5b-4c0f-4923-bf29-c2d4223d8b5d",
   "metadata": {},
   "source": [
    "## Nested list comprehension"
   ]
  },
  {
   "cell_type": "code",
   "execution_count": 10,
   "id": "60ec7d42-6a19-42d8-ab98-1a0b68080702",
   "metadata": {},
   "outputs": [],
   "source": [
    "numbers = [[3, 4, 1],\n",
    "           [2, 5, 7],\n",
    "           [9, 6, 8]]"
   ]
  },
  {
   "cell_type": "code",
   "execution_count": 11,
   "id": "b990f8eb-3f00-49ad-95f9-480b92aca6bc",
   "metadata": {},
   "outputs": [
    {
     "name": "stdout",
     "output_type": "stream",
     "text": [
      "[[9, 16, 1], [4, 25, 49], [81, 36, 64]]\n"
     ]
    }
   ],
   "source": [
    "squared_numbers = []\n",
    "\n",
    "for number_row in numbers:\n",
    "    squared_number_row = []\n",
    "    for number in number_row:\n",
    "        squared_number = number**2\n",
    "        squared_number_row.append(squared_number)\n",
    "    squared_numbers.append(squared_number_row)\n",
    "    \n",
    "print(squared_numbers)"
   ]
  },
  {
   "cell_type": "code",
   "execution_count": 12,
   "id": "c598164f-6100-44af-8816-5d5b4b313fc5",
   "metadata": {},
   "outputs": [
    {
     "name": "stdout",
     "output_type": "stream",
     "text": [
      "[[9, 16, 1], [4, 25, 49], [81, 36, 64]]\n"
     ]
    }
   ],
   "source": [
    "squared_numbers = [ [number**2 for number in number_row] for number_row in numbers ]\n",
    "\n",
    "print(squared_numbers)"
   ]
  },
  {
   "cell_type": "markdown",
   "id": "383dd2d8-c38e-46d4-9cc0-e62f90335ba9",
   "metadata": {},
   "source": [
    "## Variable scope"
   ]
  },
  {
   "cell_type": "code",
   "execution_count": 13,
   "id": "b591f73b-b86e-4691-9fe7-b3d3bd34eb95",
   "metadata": {},
   "outputs": [
    {
     "name": "stdout",
     "output_type": "stream",
     "text": [
      "x\n",
      "[2, 4, 8, 12, 14]\n"
     ]
    }
   ],
   "source": [
    "myvar = 'x'\n",
    "\n",
    "numbers = [1, 2, 4, 7, 8, 9, 12, 14, 15, 17]\n",
    "even_numbers = [ myvar for myvar in numbers if myvar%2==0 ]\n",
    "\n",
    "print(myvar)\n",
    "print(even_numbers)"
   ]
  },
  {
   "cell_type": "markdown",
   "id": "95dcbfdf-04ee-4bb8-b2c9-9a19d6458ac9",
   "metadata": {},
   "source": [
    "## Speed"
   ]
  },
  {
   "cell_type": "code",
   "execution_count": 14,
   "id": "9449e03a-5524-4af3-8865-da6f063cc977",
   "metadata": {},
   "outputs": [],
   "source": [
    "numbers = [[3, 4, 1],\n",
    "           [2, 5, 7],\n",
    "           [9, 6, 8]]"
   ]
  },
  {
   "cell_type": "code",
   "execution_count": 15,
   "id": "711a94b0-3c72-4559-97d6-6708ad6a6aac",
   "metadata": {},
   "outputs": [
    {
     "name": "stdout",
     "output_type": "stream",
     "text": [
      "3.09 µs ± 346 ns per loop (mean ± std. dev. of 7 runs, 100,000 loops each)\n"
     ]
    }
   ],
   "source": [
    "%%timeit\n",
    "\n",
    "squared_numbers = []\n",
    "\n",
    "for number_row in numbers:\n",
    "    squared_number_row = []\n",
    "    for number in number_row:\n",
    "        squared_number = number**2\n",
    "        squared_number_row.append(squared_number)\n",
    "    squared_numbers.append(squared_number_row)"
   ]
  },
  {
   "cell_type": "code",
   "execution_count": 16,
   "id": "a971de45-6d07-4068-b0ef-5889f7fe7736",
   "metadata": {},
   "outputs": [
    {
     "name": "stdout",
     "output_type": "stream",
     "text": [
      "3.01 µs ± 137 ns per loop (mean ± std. dev. of 7 runs, 100,000 loops each)\n"
     ]
    }
   ],
   "source": [
    "%%timeit\n",
    "\n",
    "squared_numbers = [ [number**2 for number in number_row] for number_row in numbers ]"
   ]
  },
  {
   "cell_type": "code",
   "execution_count": null,
   "id": "1f843cc6-b85b-49c1-b69b-f4e543671888",
   "metadata": {},
   "outputs": [],
   "source": []
  }
 ],
 "metadata": {
  "kernelspec": {
   "display_name": "Python 3 (ipykernel)",
   "language": "python",
   "name": "python3"
  },
  "language_info": {
   "codemirror_mode": {
    "name": "ipython",
    "version": 3
   },
   "file_extension": ".py",
   "mimetype": "text/x-python",
   "name": "python",
   "nbconvert_exporter": "python",
   "pygments_lexer": "ipython3",
   "version": "3.10.4"
  }
 },
 "nbformat": 4,
 "nbformat_minor": 5
}
